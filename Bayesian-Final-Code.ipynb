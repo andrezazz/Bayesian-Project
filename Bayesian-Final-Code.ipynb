{
 "cells": [
  {
   "cell_type": "code",
   "execution_count": 1,
   "metadata": {},
   "outputs": [],
   "source": [
    "#import packages\n",
    "from pyhmc import hmc\n",
    "import numpy as np\n",
    "import pandas as pd\n",
    "import random\n",
    "import scipy.stats as st\n",
    "import matplotlib.pyplot as plt"
   ]
  },
  {
   "cell_type": "code",
   "execution_count": 2,
   "metadata": {},
   "outputs": [],
   "source": [
    "#source: https://towardsdatascience.com/python-hamiltonian-monte-carlo-from-scratch-955dba96a42d\n",
    "#functions for hamiltonian monte carlo\n",
    "def normal(x, mu, sigma):\n",
    "    numerator = np.exp(-1*((x - mu)**2)/(2*sigma**2))\n",
    "    denominator = sigma*np.sqrt(2*np.pi)\n",
    "    return numerator/denominator\n",
    "\n",
    "def neg_log_prob(x, mu, sigma):\n",
    "    prob = np.log(normal(x=x, mu=mu, sigma=sigma))\n",
    "    grad = -1*(x-mu)/(sigma**2)\n",
    "    return prob, grad"
   ]
  },
  {
   "cell_type": "code",
   "execution_count": 3,
   "metadata": {},
   "outputs": [],
   "source": [
    "#parameters for normal distribution\n",
    "x = np.random.randn(1)\n",
    "mu = 0.0\n",
    "sigma = 1.0\n",
    "#hamiltonian monte carlo with default tuning parameters\n",
    "sample = hmc(fun=neg_log_prob, x0=x, args=(mu, sigma,), n_samples=5000, n_burn=1000)"
   ]
  },
  {
   "cell_type": "code",
   "execution_count": 4,
   "metadata": {},
   "outputs": [
    {
     "data": {
      "image/png": "[encoded data removed]",
      "text/plain": [
       "<Figure size 432x288 with 1 Axes>"
      ]
     },
     "metadata": {
      "needs_background": "light"
     },
     "output_type": "display_data"
    }
   ],
   "source": [
    "#graph sampling distribution vs normal distribution\n",
    "lines = np.linspace(-4, 4, 10_000)\n",
    "normal_curve = [normal(x=l,mu=mu, sigma=sigma) for l in lines]\n",
    "plt.plot(lines, normal_curve)\n",
    "plt.hist(sample, density=True, bins=20)\n",
    "plt.show()"
   ]
  },
  {
   "cell_type": "code",
   "execution_count": 9,
   "metadata": {},
   "outputs": [],
   "source": [
    "#source: https://arxiv.org/pdf/1302.6182.pdf (research paper)\n",
    "#functions for adaptive hamiltonian monte carlo\n",
    "def k_function(gamma_i, gamma_j):\n",
    "    return np.exp(-0.5*gamma_i.T@inv_sigma@gamma_j).item(0)\n",
    "\n",
    "def K_matrix(prev_gammas):\n",
    "    K_mat = np.zeros(shape=(len(prev_gammas), len(prev_gammas)))\n",
    "    for m in range(len(prev_gammas)):\n",
    "        row_list = list()\n",
    "        for n in range(len(prev_gammas)):\n",
    "            k = k_function(np.array(prev_gammas[m]), np.array(prev_gammas[n]))\n",
    "            row_list.append(k)\n",
    "        K_mat[m] = np.array(row_list)\n",
    "    return K_mat\n",
    "\n",
    "def k_vector(K_mat):\n",
    "    return K_mat[-1].T\n",
    "\n",
    "def f_function(gamma_i):\n",
    "    return np.random.normal(0, k_function(np.array(gamma_i), np.array(gamma_i)), 1).item(0)\n",
    "\n",
    "def e_function(sigma_eta):\n",
    "    return np.random.normal(0, sigma_eta, 1).item(0)\n",
    "\n",
    "def r_function(gamma_i, sigma_eta):\n",
    "    return f_function(gamma_i) + e_function(sigma_eta)\n",
    "\n",
    "def mu_function(gamma_i, s, sigma_eta, K_mat, k_vect, r_vect):\n",
    "    return (k_vect.T @ np.linalg.inv(K_mat + sigma_eta*np.identity(K_mat.shape[0])) @ r_vect*s).item(0)\n",
    "\n",
    "def sigma_function(gamma_i, sigma_eta, K_mat, k_vect):\n",
    "    return abs((k_function(np.array(gamma_i), np.array(gamma_i)) - (k_vect.T @ np.linalg.inv(K_mat + sigma_eta*np.identity(K_mat.shape[0])) @ k_vect)).item(0))\n",
    "\n",
    "def beta_function(i):\n",
    "    return 2*np.log(((i + 1)**3*(np.pi**2))/0.3)\n",
    "\n",
    "def acquisition(gamma_i, s, sigma_eta, K_mat, k_vect, r_vect, i, p):\n",
    "    return mu_function(np.array(gamma_i), s, sigma_eta, K_mat, k_vect, r_vect) + p*np.sqrt(sigma_function(np.array(gamma_i), sigma_eta, K_mat, k_vect))*np.sqrt(beta_function(i))\n"
   ]
  },
  {
   "cell_type": "code",
   "execution_count": null,
   "metadata": {},
   "outputs": [],
   "source": [
    "from itertools import product\n",
    "#parameters for adaptive algorithm\n",
    "step_sizes = [0.01, 0.03, 0.05, 0.07, 0.09, 0.11, 0.13, 0.15, 0.17, 0.19, 0.21] #set of all step sizes = E\n",
    "num_steps = [10, 20, 30, 40, 50, 60, 70, 80, 90, 100, 110] #set of all num of steps = L\n",
    "gammas = list(product(step_sizes, num_steps)) #set of all gammas = E x L\n",
    "random.shuffle(gammas) #random order of gammas\n",
    "sigma_matrix = np.matrix([[0.0016, 0], [0, 400]]) #sigma matrix\n",
    "inv_sigma = np.linalg.inv(sigma_matrix) #sigma matrix inverse\n",
    "alpha = 4 #paper defines this\n",
    "w = 100 #paper defines this\n",
    "m = 10 #burnin/w = 1000/100\n",
    "\n",
    "#parameters for normal distribution\n",
    "mu = 0.0\n",
    "sigma = 1.0\n",
    "r_vect = np.array([]) #vector of r_vals\n",
    "prev_gammas = np.array([]) #vector of gammas\n",
    "gamma = gammas[0] #set gamma to first gamma\n",
    "for g in range(len(gammas)):\n",
    "    #find the K matrix and k vector for this iteration\n",
    "    if g == 0:\n",
    "        prev_gammas = np.append(prev_gammas, np.array(gamma))\n",
    "        K_mat = np.matrix([k_function(np.array(gamma), np.array(gamma))])\n",
    "    else:\n",
    "        prev_gammas = np.vstack([prev_gammas, gamma])\n",
    "        K_mat = K_matrix(prev_gammas)\n",
    "    k_vect = k_vector(K_mat)    \n",
    "    sample_means = list()\n",
    "    #run hamiltonian monte carlo for m iterations\n",
    "    for n in range(m):\n",
    "        x = np.random.randn(1)\n",
    "        step_size = gamma[0]\n",
    "        num_steps = gamma[1]\n",
    "        sample = hmc(fun=neg_log_prob, x0=x, args=(mu, sigma,), n_samples=5000, n_burn=1000, n_steps=num_steps, epsilon=step_size)\n",
    "        sample_means.append(np.mean(sample))\n",
    "    sigma_eta = np.std(sample_means)**2 #sigma_eta squared\n",
    "    r_val = r_function(np.array(gamma), sigma_eta) #r_val\n",
    "    #change s only if it meets conditions\n",
    "    if g == 0:\n",
    "        s = alpha/r_val\n",
    "    elif r_val > np.amax(r_vect):\n",
    "        s = alpha/r_val\n",
    "    r_vect = np.append(r_vect, np.array(r_val)) #add r_val to r_vect\n",
    "    u = np.random.uniform(0.0, 1.0) #sample from uniform distribution\n",
    "    p = 1/np.sqrt(max(g-w+2, 1))\n",
    "    #change gamma only if it meets condition\n",
    "    if u < p:\n",
    "        #find the gamma that maximizes the acquisition function\n",
    "        func_vals = [acquisition(np.array(x), s, sigma_eta, K_mat, k_vect, r_vect, g+1, p) for x in gammas]\n",
    "        fmax = max(func_vals)\n",
    "        gamma = gammas[func_vals.index(fmax)]\n",
    "    "
   ]
  },
  {
   "cell_type": "code",
   "execution_count": 11,
   "metadata": {
    "scrolled": true
   },
   "outputs": [
    {
     "data": {
      "text/plain": [
       "(0.21, 110)"
      ]
     },
     "execution_count": 11,
     "metadata": {},
     "output_type": "execute_result"
    }
   ],
   "source": [
    "#optimal gamma value\n",
    "gamma"
   ]
  },
  {
   "cell_type": "code",
   "execution_count": 12,
   "metadata": {},
   "outputs": [],
   "source": [
    "step_size = gamma[0]\n",
    "num_steps = gamma[1]\n",
    "#hamiltonian monte carlo with optimized tuning parameters\n",
    "sample = hmc(fun=neg_log_prob, x0=x, args=(mu, sigma,), n_samples=5000, n_burn=1000, n_steps=num_steps, epsilon=step_size)"
   ]
  },
  {
   "cell_type": "code",
   "execution_count": 13,
   "metadata": {},
   "outputs": [
    {
     "data": {
      "image/png": "[encoded data removed]",
      "text/plain": [
       "<Figure size 432x288 with 1 Axes>"
      ]
     },
     "metadata": {
      "needs_background": "light"
     },
     "output_type": "display_data"
    }
   ],
   "source": [
    "#graph sampling distribution vs normal distribution\n",
    "lines = np.linspace(-4, 4, 10_000)\n",
    "normal_curve = [normal(x=l,mu=mu, sigma=sigma) for l in lines]\n",
    "plt.plot(lines, normal_curve)\n",
    "plt.hist(sample, density=True, bins=20)\n",
    "plt.show()"
   ]
  },
  {
   "cell_type": "code",
   "execution_count": null,
   "metadata": {},
   "outputs": [],
   "source": []
  }
 ],
 "metadata": {
  "kernelspec": {
   "display_name": "Python 3",
   "language": "python",
   "name": "python3"
  },
  "language_info": {
   "codemirror_mode": {
    "name": "ipython",
    "version": 3
   },
   "file_extension": ".py",
   "mimetype": "text/x-python",
   "name": "python",
   "nbconvert_exporter": "python",
   "pygments_lexer": "ipython3",
   "version": "3.7.6"
  }
 },
 "nbformat": 4,
 "nbformat_minor": 4
}
