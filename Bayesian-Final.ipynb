{
 "cells": [
  {
   "cell_type": "code",
   "execution_count": 1,
   "metadata": {},
   "outputs": [],
   "source": [
    "from pyhmc import hmc\n",
    "import numpy as np\n",
    "import pandas as pd\n",
    "import random\n",
    "import scipy.stats as st\n",
    "import matplotlib.pyplot as plt"
   ]
  },
  {
   "cell_type": "code",
   "execution_count": 58,
   "metadata": {},
   "outputs": [],
   "source": [
    "#source: https://towardsdatascience.com/python-hamiltonian-monte-carlo-from-scratch-955dba96a42d\n",
    "def normal(x, mu, sigma):\n",
    "    numerator = np.exp(-1*((x - mu)**2)/(2*sigma**2))\n",
    "    denominator = sigma*np.sqrt(2*np.pi)\n",
    "    return numerator/denominator\n",
    "\n",
    "def neg_log_prob(x, mu, sigma):\n",
    "    prob = np.log(normal(x=x, mu=mu, sigma=sigma))\n",
    "    grad = -1*(x-mu)/(sigma**2)\n",
    "    return prob, grad"
   ]
  },
  {
   "cell_type": "code",
   "execution_count": 59,
   "metadata": {},
   "outputs": [],
   "source": [
    "x = np.random.randn(1)\n",
    "mu = 0.0\n",
    "sigma = 1.0\n",
    "step_size = 0.2\n",
    "num_steps = 60\n",
    "trial = hmc(fun=neg_log_prob, x0=x, args=(mu, sigma,), n_samples=5000, n_burn=1000, n_steps=num_steps, epsilon=step_size, return_diagnostics=True)"
   ]
  },
  {
   "cell_type": "code",
   "execution_count": 60,
   "metadata": {},
   "outputs": [
    {
     "data": {
      "text/plain": [
       "(array([[ 1.02864945],\n",
       "        [ 0.27600592],\n",
       "        [-0.76654926],\n",
       "        ...,\n",
       "        [ 0.44046879],\n",
       "        [ 0.1993706 ],\n",
       "        [ 0.1993706 ]]),\n",
       " {'pos': array([[ 1.02864945],\n",
       "         [ 0.27600592],\n",
       "         [-0.76654926],\n",
       "         ...,\n",
       "         [ 0.44046879],\n",
       "         [ 0.1993706 ],\n",
       "         [ 0.89353346]]),\n",
       "  'mom': array([[-1.07721878],\n",
       "         [-1.06173508],\n",
       "         [ 0.19711014],\n",
       "         ...,\n",
       "         [ 1.2146634 ],\n",
       "         [-0.50118631],\n",
       "         [-0.68745092]]),\n",
       "  'acc': array([0.81135501, 1.31473711, 0.86717309, ..., 2.06180356, 1.04392608,\n",
       "         0.80943931]),\n",
       "  'rej': 0.2082,\n",
       "  'stps': 0.2})"
      ]
     },
     "execution_count": 60,
     "metadata": {},
     "output_type": "execute_result"
    }
   ],
   "source": [
    "trial"
   ]
  },
  {
   "cell_type": "code",
   "execution_count": 63,
   "metadata": {},
   "outputs": [
    {
     "data": {
      "image/png": "[encoded data removed]",
      "text/plain": [
       "<Figure size 432x288 with 1 Axes>"
      ]
     },
     "metadata": {
      "needs_background": "light"
     },
     "output_type": "display_data"
    }
   ],
   "source": [
    "lines = np.linspace(-4, 4, 10_000)\n",
    "normal_curve = [normal(x=l,mu=mu, sigma=sigma) for l in lines]\n",
    "plt.plot(lines, normal_curve)\n",
    "plt.hist(trial[0], density=True)\n",
    "plt.show()"
   ]
  },
  {
   "cell_type": "code",
   "execution_count": 8,
   "metadata": {},
   "outputs": [
    {
     "data": {
      "text/plain": [
       "matrix([[5.e+02, 0.e+00],\n",
       "        [0.e+00, 2.e-03]])"
      ]
     },
     "execution_count": 8,
     "metadata": {},
     "output_type": "execute_result"
    }
   ],
   "source": [
    "sigma_matrix = np.matrix([[0.002, 0], [0, 500]])\n",
    "inv_sigma = np.linalg.inv(sigma_matrix)\n",
    "inv_sigma"
   ]
  },
  {
   "cell_type": "code",
   "execution_count": 9,
   "metadata": {},
   "outputs": [
    {
     "data": {
      "text/plain": [
       "0.006737946999085467"
      ]
     },
     "execution_count": 9,
     "metadata": {},
     "output_type": "execute_result"
    }
   ],
   "source": [
    "def k_function(gamma_i, gamma_j):\n",
    "    return np.exp(-0.5*gamma_i.T@inv_sigma@gamma_j).item(0)\n",
    "k = k_function(np.array([0.1,50]), np.array([0.1,50]))\n",
    "k"
   ]
  },
  {
   "cell_type": "code",
   "execution_count": 10,
   "metadata": {},
   "outputs": [
    {
     "data": {
      "text/plain": [
       "[(0.1, 50),\n",
       " (0.1, 55),\n",
       " (0.1, 60),\n",
       " (0.1, 65),\n",
       " (0.1, 70),\n",
       " (0.1, 75),\n",
       " (0.1, 80),\n",
       " (0.1, 85),\n",
       " (0.1, 90),\n",
       " (0.1, 95),\n",
       " (0.1, 100),\n",
       " (0.11, 50),\n",
       " (0.11, 55),\n",
       " (0.11, 60),\n",
       " (0.11, 65),\n",
       " (0.11, 70),\n",
       " (0.11, 75),\n",
       " (0.11, 80),\n",
       " (0.11, 85),\n",
       " (0.11, 90),\n",
       " (0.11, 95),\n",
       " (0.11, 100),\n",
       " (0.12, 50),\n",
       " (0.12, 55),\n",
       " (0.12, 60),\n",
       " (0.12, 65),\n",
       " (0.12, 70),\n",
       " (0.12, 75),\n",
       " (0.12, 80),\n",
       " (0.12, 85),\n",
       " (0.12, 90),\n",
       " (0.12, 95),\n",
       " (0.12, 100),\n",
       " (0.13, 50),\n",
       " (0.13, 55),\n",
       " (0.13, 60),\n",
       " (0.13, 65),\n",
       " (0.13, 70),\n",
       " (0.13, 75),\n",
       " (0.13, 80),\n",
       " (0.13, 85),\n",
       " (0.13, 90),\n",
       " (0.13, 95),\n",
       " (0.13, 100),\n",
       " (0.14, 50),\n",
       " (0.14, 55),\n",
       " (0.14, 60),\n",
       " (0.14, 65),\n",
       " (0.14, 70),\n",
       " (0.14, 75),\n",
       " (0.14, 80),\n",
       " (0.14, 85),\n",
       " (0.14, 90),\n",
       " (0.14, 95),\n",
       " (0.14, 100),\n",
       " (0.15, 50),\n",
       " (0.15, 55),\n",
       " (0.15, 60),\n",
       " (0.15, 65),\n",
       " (0.15, 70),\n",
       " (0.15, 75),\n",
       " (0.15, 80),\n",
       " (0.15, 85),\n",
       " (0.15, 90),\n",
       " (0.15, 95),\n",
       " (0.15, 100),\n",
       " (0.16, 50),\n",
       " (0.16, 55),\n",
       " (0.16, 60),\n",
       " (0.16, 65),\n",
       " (0.16, 70),\n",
       " (0.16, 75),\n",
       " (0.16, 80),\n",
       " (0.16, 85),\n",
       " (0.16, 90),\n",
       " (0.16, 95),\n",
       " (0.16, 100),\n",
       " (0.17, 50),\n",
       " (0.17, 55),\n",
       " (0.17, 60),\n",
       " (0.17, 65),\n",
       " (0.17, 70),\n",
       " (0.17, 75),\n",
       " (0.17, 80),\n",
       " (0.17, 85),\n",
       " (0.17, 90),\n",
       " (0.17, 95),\n",
       " (0.17, 100),\n",
       " (0.18, 50),\n",
       " (0.18, 55),\n",
       " (0.18, 60),\n",
       " (0.18, 65),\n",
       " (0.18, 70),\n",
       " (0.18, 75),\n",
       " (0.18, 80),\n",
       " (0.18, 85),\n",
       " (0.18, 90),\n",
       " (0.18, 95),\n",
       " (0.18, 100),\n",
       " (0.19, 50),\n",
       " (0.19, 55),\n",
       " (0.19, 60),\n",
       " (0.19, 65),\n",
       " (0.19, 70),\n",
       " (0.19, 75),\n",
       " (0.19, 80),\n",
       " (0.19, 85),\n",
       " (0.19, 90),\n",
       " (0.19, 95),\n",
       " (0.19, 100),\n",
       " (0.2, 50),\n",
       " (0.2, 55),\n",
       " (0.2, 60),\n",
       " (0.2, 65),\n",
       " (0.2, 70),\n",
       " (0.2, 75),\n",
       " (0.2, 80),\n",
       " (0.2, 85),\n",
       " (0.2, 90),\n",
       " (0.2, 95),\n",
       " (0.2, 100)]"
      ]
     },
     "execution_count": 10,
     "metadata": {},
     "output_type": "execute_result"
    }
   ],
   "source": [
    "from itertools import product\n",
    "step_sizes = [0.10, 0.11, 0.12, 0.13, 0.14, 0.15, 0.16, 0.17, 0.18, 0.19, 0.20] #E\n",
    "num_steps = [50, 55, 60, 65, 70, 75, 80, 85, 90, 95, 100] #L\n",
    "gammas = list(product(step_sizes, num_steps))\n",
    "gammas"
   ]
  },
  {
   "cell_type": "code",
   "execution_count": 11,
   "metadata": {},
   "outputs": [],
   "source": [
    "gamma_1 = np.array([0.1, 50])\n",
    "prev_gammas = np.array(gamma_1)\n",
    "def K_matrix(gamma_i):\n",
    "    global prev_gammas\n",
    "    prev_gammas = np.vstack([prev_gammas, gamma_i])\n",
    "    K_mat = np.zeros(shape=(len(prev_gammas), len(prev_gammas)))\n",
    "    for m in range(len(prev_gammas)):\n",
    "        row_list = list()\n",
    "        for n in range(len(prev_gammas)):\n",
    "            k = k_function(prev_gammas[m], prev_gammas[n])\n",
    "            row_list.append(k)\n",
    "        K_mat[m] = np.array(row_list)\n",
    "    return K_mat"
   ]
  },
  {
   "cell_type": "code",
   "execution_count": 27,
   "metadata": {},
   "outputs": [
    {
     "data": {
      "text/plain": [
       "array([[0.00673795, 0.00408677, 0.00408677, 0.00408677],\n",
       "       [0.00408677, 0.00224287, 0.00224287, 0.00224287],\n",
       "       [0.00408677, 0.00224287, 0.00224287, 0.00224287],\n",
       "       [0.00408677, 0.00224287, 0.00224287, 0.00224287]])"
      ]
     },
     "execution_count": 27,
     "metadata": {},
     "output_type": "execute_result"
    }
   ],
   "source": [
    "K2 = K_matrix(np.array([0.1, 60]))\n",
    "K2"
   ]
  },
  {
   "cell_type": "code",
   "execution_count": 134,
   "metadata": {},
   "outputs": [
    {
     "data": {
      "text/plain": [
       "0.006737946999085467"
      ]
     },
     "execution_count": 134,
     "metadata": {},
     "output_type": "execute_result"
    }
   ],
   "source": [
    "K3 = K_matrix(np.array([0.2, 50]))\n",
    "K3"
   ]
  },
  {
   "cell_type": "code",
   "execution_count": 3,
   "metadata": {},
   "outputs": [],
   "source": [
    "def k_vector(K_mat):\n",
    "    return K_mat[-1].T"
   ]
  },
  {
   "cell_type": "code",
   "execution_count": 16,
   "metadata": {},
   "outputs": [
    {
     "data": {
      "text/plain": [
       "array([0.00408677, 0.00224287])"
      ]
     },
     "execution_count": 16,
     "metadata": {},
     "output_type": "execute_result"
    }
   ],
   "source": [
    "k_vect = k_vector(K2)\n",
    "k_vect"
   ]
  },
  {
   "cell_type": "code",
   "execution_count": 20,
   "metadata": {},
   "outputs": [],
   "source": [
    "def f_function(gamma_i):\n",
    "    return np.random.normal(0, k_function(np.array(gamma_i), np.array(gamma_i)), 1).item(0)"
   ]
  },
  {
   "cell_type": "code",
   "execution_count": 21,
   "metadata": {},
   "outputs": [
    {
     "data": {
      "text/plain": [
       "-0.000129990162652671"
      ]
     },
     "execution_count": 21,
     "metadata": {},
     "output_type": "execute_result"
    }
   ],
   "source": [
    "f = f_function(np.array([0.1, 50]))\n",
    "f"
   ]
  },
  {
   "cell_type": "code",
   "execution_count": 22,
   "metadata": {},
   "outputs": [],
   "source": [
    "def e_function(sigma_eta):\n",
    "    return np.random.normal(0, sigma_eta, 1).item(0)"
   ]
  },
  {
   "cell_type": "code",
   "execution_count": 24,
   "metadata": {},
   "outputs": [],
   "source": [
    "def r_function(gamma_i, sigma_eta):\n",
    "    return f_function(gamma_i) + e_function(sigma_eta)"
   ]
  },
  {
   "cell_type": "code",
   "execution_count": 25,
   "metadata": {},
   "outputs": [
    {
     "data": {
      "text/plain": [
       "3.084314250807379"
      ]
     },
     "execution_count": 25,
     "metadata": {},
     "output_type": "execute_result"
    }
   ],
   "source": [
    "r = r_function(np.array([0.1, 50]), 2)\n",
    "r"
   ]
  },
  {
   "cell_type": "code",
   "execution_count": 28,
   "metadata": {},
   "outputs": [],
   "source": [
    "def mu(gamma_i, s, sigma_eta, K_mat, k_vect, r_vect):\n",
    "    return k_vect.T @ np.linalg.inv(K_mat + sigma_eta*np.identity(K_mat.shape[0])) @ r_vect*s"
   ]
  },
  {
   "cell_type": "code",
   "execution_count": 29,
   "metadata": {},
   "outputs": [
    {
     "data": {
      "text/plain": [
       "19.841239491018868"
      ]
     },
     "execution_count": 29,
     "metadata": {},
     "output_type": "execute_result"
    }
   ],
   "source": [
    "mu_i = mu(np.array([0.1, 70]), 2, 2, K2, np.array([1,2,3,4]), np.array([4,3,2,1]))\n",
    "mu_i"
   ]
  },
  {
   "cell_type": "code",
   "execution_count": 30,
   "metadata": {},
   "outputs": [],
   "source": [
    "def sigma(gamma_i, sigma_eta, K_mat, k_vect):\n",
    "    return k_function(np.array(gamma_i), np.array(gamma_i)) - (k_vect.T @ np.linalg.inv(K_mat + sigma_eta*np.identity(K_mat.shape[0])) @ k_vect)"
   ]
  },
  {
   "cell_type": "code",
   "execution_count": 31,
   "metadata": {},
   "outputs": [
    {
     "data": {
      "text/plain": [
       "-14.9343502507144"
      ]
     },
     "execution_count": 31,
     "metadata": {},
     "output_type": "execute_result"
    }
   ],
   "source": [
    "sigma_i = sigma(np.array([0.1, 70]), 2, K2, np.array([1,2,3,4]))\n",
    "sigma_i"
   ]
  },
  {
   "cell_type": "code",
   "execution_count": 32,
   "metadata": {},
   "outputs": [],
   "source": [
    "def beta(i):\n",
    "    return 2*np.log(((i + 1)**3*(np.pi**2))/0.3)"
   ]
  },
  {
   "cell_type": "code",
   "execution_count": 33,
   "metadata": {},
   "outputs": [
    {
     "data": {
      "text/plain": [
       "17.737421967417802"
      ]
     },
     "execution_count": 33,
     "metadata": {},
     "output_type": "execute_result"
    }
   ],
   "source": [
    "beta = beta(5)\n",
    "beta"
   ]
  },
  {
   "cell_type": "code",
   "execution_count": 34,
   "metadata": {},
   "outputs": [],
   "source": [
    "def acquisition(gamma_i, s, sigma_eta, K_mat, k_vect, r_vect, i, p):\n",
    "    return mu(gamma_i, s, sigma_eta, K_mat, k_vect, r_vect) + p*sigma(gamma_i, sigma_eta, K_mat, k_vect)*np.sqrt(beta(i))"
   ]
  },
  {
   "cell_type": "code",
   "execution_count": null,
   "metadata": {},
   "outputs": [],
   "source": []
  },
  {
   "cell_type": "code",
   "execution_count": null,
   "metadata": {},
   "outputs": [],
   "source": [
    "from itertools import product\n",
    "step_sizes = [0.10, 0.11, 0.12, 0.13, 0.14, 0.15, 0.16, 0.17, 0.18, 0.19, 0.20] #E\n",
    "num_steps = [50, 55, 60, 65, 70, 75, 80, 85, 90, 95, 100] #L\n",
    "gammas = list(product(step_sizes, num_steps))\n",
    "alpha = 4\n",
    "i = 1\n",
    "m = 10 #num of iterations = burnin/k = 1000/100"
   ]
  }
 ],
 "metadata": {
  "kernelspec": {
   "display_name": "Python 3",
   "language": "python",
   "name": "python3"
  },
  "language_info": {
   "codemirror_mode": {
    "name": "ipython",
    "version": 3
   },
   "file_extension": ".py",
   "mimetype": "text/x-python",
   "name": "python",
   "nbconvert_exporter": "python",
   "pygments_lexer": "ipython3",
   "version": "3.7.6"
  }
 },
 "nbformat": 4,
 "nbformat_minor": 4
}
